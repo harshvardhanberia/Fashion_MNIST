{
 "cells": [
  {
   "cell_type": "markdown",
   "metadata": {},
   "source": [
    "# ANN for FASHION MNIST DATASET "
   ]
  },
  {
   "cell_type": "markdown",
   "metadata": {},
   "source": [
    "This dataset consists of a training set of 60,000 examples and a test set of 10,000 examples of different apparels with labels from 10 classes, denoting the type of apparel. We here use an ANN architecture to train and test our model, which finally gives an accuracy of 88.81%"
   ]
  },
  {
   "cell_type": "code",
   "execution_count": 1,
   "metadata": {},
   "outputs": [],
   "source": [
    "import numpy as np\n",
    "import pandas as pd\n",
    "%matplotlib inline\n",
    "import matplotlib as mpl\n",
    "import matplotlib.pyplot as plt"
   ]
  },
  {
   "cell_type": "markdown",
   "metadata": {},
   "source": [
    "Using tensorflow for this architecture"
   ]
  },
  {
   "cell_type": "code",
   "execution_count": 2,
   "metadata": {},
   "outputs": [],
   "source": [
    "import tensorflow as tf\n",
    "from tensorflow import keras"
   ]
  },
  {
   "cell_type": "markdown",
   "metadata": {},
   "source": [
    "Downloading the Fashion Mnist dataset from Keras"
   ]
  },
  {
   "cell_type": "code",
   "execution_count": 3,
   "metadata": {},
   "outputs": [],
   "source": [
    "fashion_mnist=keras.datasets.fashion_mnist\n",
    "(X_train_entire, Y_train_entire),(X_test, Y_test)=fashion_mnist.load_data()"
   ]
  },
  {
   "cell_type": "markdown",
   "metadata": {},
   "source": [
    "Check the data available in the dataset"
   ]
  },
  {
   "cell_type": "code",
   "execution_count": 4,
   "metadata": {},
   "outputs": [
    {
     "data": {
      "text/plain": [
       "<matplotlib.image.AxesImage at 0x1ea0fc5e1c8>"
      ]
     },
     "execution_count": 4,
     "metadata": {},
     "output_type": "execute_result"
    },
    {
     "data": {
      "image/png": "[encoded data removed]",
      "text/plain": [
       "<Figure size 432x288 with 1 Axes>"
      ]
     },
     "metadata": {
      "needs_background": "light"
     },
     "output_type": "display_data"
    }
   ],
   "source": [
    "plt.imshow(X_train_entire[0])"
   ]
  },
  {
   "cell_type": "code",
   "execution_count": 5,
   "metadata": {},
   "outputs": [
    {
     "data": {
      "text/plain": [
       "9"
      ]
     },
     "execution_count": 5,
     "metadata": {},
     "output_type": "execute_result"
    }
   ],
   "source": [
    "Y_train_entire[0]"
   ]
  },
  {
   "cell_type": "markdown",
   "metadata": {},
   "source": [
    "Standardizing the dataset to fluctuate between 0 and 1, where 0 denotes black and 1 denotes white"
   ]
  },
  {
   "cell_type": "code",
   "execution_count": 6,
   "metadata": {},
   "outputs": [],
   "source": [
    "X_train_entire=X_train_entire/255.\n",
    "X_test=X_test/255."
   ]
  },
  {
   "cell_type": "markdown",
   "metadata": {},
   "source": [
    "Split the Training dataset to Train set and Validation set. Using 5000 data for Validation while the rest for Training"
   ]
  },
  {
   "cell_type": "code",
   "execution_count": 7,
   "metadata": {},
   "outputs": [],
   "source": [
    "X_valid, X_train=X_train_entire[:5000],X_train_entire[5000:]\n",
    "Y_valid, Y_train=Y_train_entire[:5000],Y_train_entire[5000:]"
   ]
  },
  {
   "cell_type": "code",
   "execution_count": 8,
   "metadata": {},
   "outputs": [
    {
     "data": {
      "text/plain": [
       "(5000, 28, 28)"
      ]
     },
     "execution_count": 8,
     "metadata": {},
     "output_type": "execute_result"
    }
   ],
   "source": [
    "X_valid.shape\n"
   ]
  },
  {
   "cell_type": "code",
   "execution_count": 9,
   "metadata": {},
   "outputs": [
    {
     "data": {
      "text/plain": [
       "(55000, 28, 28)"
      ]
     },
     "execution_count": 9,
     "metadata": {},
     "output_type": "execute_result"
    }
   ],
   "source": [
    "X_train.shape"
   ]
  },
  {
   "cell_type": "code",
   "execution_count": 10,
   "metadata": {},
   "outputs": [
    {
     "data": {
      "text/plain": [
       "array([[0.        , 0.        , 0.        , 0.        , 0.        ,\n",
       "        0.        , 0.        , 0.        , 0.        , 0.        ,\n",
       "        0.        , 0.        , 0.        , 0.        , 0.        ,\n",
       "        0.        , 0.        , 0.        , 0.        , 0.00392157,\n",
       "        0.        , 0.        , 0.        , 0.        , 0.        ,\n",
       "        0.        , 0.        , 0.        ],\n",
       "       [0.        , 0.        , 0.        , 0.        , 0.        ,\n",
       "        0.        , 0.        , 0.        , 0.        , 0.        ,\n",
       "        0.        , 0.17254902, 0.49803922, 0.71372549, 0.7254902 ,\n",
       "        0.63137255, 0.47058824, 0.21568627, 0.        , 0.        ,\n",
       "        0.        , 0.        , 0.        , 0.        , 0.        ,\n",
       "        0.        , 0.        , 0.        ],\n",
       "       [0.        , 0.        , 0.        , 0.        , 0.        ,\n",
       "        0.        , 0.        , 0.        , 0.        , 0.16470588,\n",
       "        0.77647059, 0.98431373, 1.        , 0.98431373, 0.97647059,\n",
       "        0.96862745, 1.        , 0.98823529, 0.83921569, 0.39215686,\n",
       "        0.        , 0.        , 0.        , 0.        , 0.        ,\n",
       "        0.        , 0.        , 0.        ],\n",
       "       [0.        , 0.        , 0.        , 0.        , 0.        ,\n",
       "        0.        , 0.00784314, 0.        , 0.        , 0.91372549,\n",
       "        0.98823529, 0.92941176, 0.9372549 , 0.91764706, 0.92941176,\n",
       "        0.92156863, 0.92941176, 0.92941176, 0.99607843, 0.89019608,\n",
       "        0.        , 0.        , 0.        , 0.        , 0.00392157,\n",
       "        0.        , 0.        , 0.        ],\n",
       "       [0.        , 0.        , 0.        , 0.        , 0.        ,\n",
       "        0.00784314, 0.        , 0.        , 0.0627451 , 0.82352941,\n",
       "        0.88235294, 0.84313725, 0.68627451, 0.85098039, 0.84705882,\n",
       "        0.75686275, 0.76862745, 0.88627451, 0.86666667, 0.81960784,\n",
       "        0.19607843, 0.        , 0.        , 0.00784314, 0.        ,\n",
       "        0.        , 0.        , 0.        ],\n",
       "       [0.        , 0.        , 0.        , 0.        , 0.00784314,\n",
       "        0.        , 0.        , 0.78039216, 0.89803922, 0.90980392,\n",
       "        0.90196078, 0.96078431, 0.8       , 0.85882353, 0.99215686,\n",
       "        0.96078431, 0.81176471, 0.76078431, 0.8745098 , 0.90588235,\n",
       "        0.9254902 , 0.92156863, 0.        , 0.        , 0.01176471,\n",
       "        0.        , 0.        , 0.        ],\n",
       "       [0.        , 0.        , 0.        , 0.        , 0.00392157,\n",
       "        0.        , 0.5372549 , 0.92156863, 0.8       , 0.81960784,\n",
       "        0.78823529, 0.81960784, 0.91764706, 0.74509804, 0.91764706,\n",
       "        0.85490196, 0.84313725, 0.93333333, 0.9372549 , 0.8       ,\n",
       "        0.74117647, 0.87843137, 0.60392157, 0.        , 0.        ,\n",
       "        0.        , 0.        , 0.        ],\n",
       "       [0.        , 0.        , 0.        , 0.        , 0.        ,\n",
       "        0.        , 0.76078431, 0.78823529, 0.78431373, 0.81960784,\n",
       "        0.79215686, 0.75686275, 0.80392157, 0.76078431, 0.71764706,\n",
       "        0.85490196, 0.90588235, 0.77254902, 0.6745098 , 0.70980392,\n",
       "        0.75686275, 0.80392157, 0.78039216, 0.        , 0.        ,\n",
       "        0.        , 0.        , 0.        ],\n",
       "       [0.        , 0.        , 0.        , 0.        , 0.        ,\n",
       "        0.01176471, 0.83137255, 0.79607843, 0.7372549 , 0.74117647,\n",
       "        0.76862745, 0.77647059, 0.77647059, 0.78823529, 0.76862745,\n",
       "        0.85098039, 0.70196078, 0.65490196, 0.71764706, 0.85098039,\n",
       "        0.77254902, 0.79215686, 0.85882353, 0.11764706, 0.        ,\n",
       "        0.        , 0.        , 0.        ],\n",
       "       [0.        , 0.        , 0.        , 0.        , 0.        ,\n",
       "        0.13333333, 0.88235294, 0.78431373, 0.76078431, 0.74509804,\n",
       "        0.7372549 , 0.75294118, 0.76862745, 0.75294118, 0.66666667,\n",
       "        0.79215686, 0.74509804, 0.78823529, 0.76470588, 0.78431373,\n",
       "        0.78823529, 0.81960784, 0.89019608, 0.19607843, 0.        ,\n",
       "        0.        , 0.        , 0.        ],\n",
       "       [0.        , 0.        , 0.        , 0.        , 0.        ,\n",
       "        0.26666667, 0.88235294, 0.82352941, 0.82745098, 0.77647059,\n",
       "        0.75294118, 0.76862745, 0.8       , 0.76862745, 0.70980392,\n",
       "        0.83137255, 0.77254902, 0.76470588, 0.75294118, 0.80784314,\n",
       "        0.8627451 , 0.82352941, 0.89803922, 0.36470588, 0.        ,\n",
       "        0.        , 0.        , 0.        ],\n",
       "       [0.        , 0.        , 0.        , 0.        , 0.        ,\n",
       "        0.43529412, 0.8745098 , 0.89019608, 0.99215686, 0.81960784,\n",
       "        0.76862745, 0.8       , 0.82745098, 0.80784314, 0.71764706,\n",
       "        0.84705882, 0.80784314, 0.82352941, 0.79607843, 0.84313725,\n",
       "        0.95686275, 0.87843137, 0.89019608, 0.58823529, 0.        ,\n",
       "        0.        , 0.        , 0.        ],\n",
       "       [0.        , 0.        , 0.        , 0.        , 0.        ,\n",
       "        0.54509804, 0.88235294, 0.87843137, 1.        , 0.79215686,\n",
       "        0.80784314, 0.83137255, 0.81960784, 0.82745098, 0.74509804,\n",
       "        0.83529412, 0.79215686, 0.81176471, 0.80784314, 0.87058824,\n",
       "        1.        , 0.90196078, 0.8627451 , 0.74509804, 0.        ,\n",
       "        0.        , 0.        , 0.        ],\n",
       "       [0.        , 0.        , 0.        , 0.        , 0.        ,\n",
       "        0.70588235, 0.88627451, 0.87843137, 1.        , 0.78039216,\n",
       "        0.8       , 0.81176471, 0.83921569, 0.83921569, 0.74509804,\n",
       "        0.84705882, 0.80784314, 0.79607843, 0.80392157, 0.85882353,\n",
       "        0.95294118, 0.87843137, 0.83921569, 0.91764706, 0.        ,\n",
       "        0.        , 0.        , 0.        ],\n",
       "       [0.        , 0.        , 0.        , 0.        , 0.        ,\n",
       "        0.88235294, 0.8745098 , 0.89411765, 0.99607843, 0.81960784,\n",
       "        0.80784314, 0.81568627, 0.83529412, 0.82352941, 0.74901961,\n",
       "        0.84313725, 0.81176471, 0.8       , 0.81568627, 0.82745098,\n",
       "        0.97647059, 0.88627451, 0.83921569, 1.        , 0.14901961,\n",
       "        0.        , 0.        , 0.        ],\n",
       "       [0.        , 0.        , 0.        , 0.        , 0.        ,\n",
       "        0.98039216, 0.90980392, 0.94117647, 0.9372549 , 0.82745098,\n",
       "        0.79607843, 0.81960784, 0.80392157, 0.82745098, 0.77254902,\n",
       "        0.84313725, 0.81568627, 0.81568627, 0.83921569, 0.83529412,\n",
       "        0.9372549 , 0.90588235, 0.85882353, 1.        , 0.31764706,\n",
       "        0.        , 0.        , 0.        ],\n",
       "       [0.        , 0.        , 0.        , 0.        , 0.        ,\n",
       "        0.97254902, 0.9254902 , 0.96862745, 0.94117647, 0.79607843,\n",
       "        0.78431373, 0.81568627, 0.80784314, 0.83921569, 0.75686275,\n",
       "        0.83529412, 0.83137255, 0.81568627, 0.83137255, 0.82745098,\n",
       "        0.95294118, 0.94901961, 0.88235294, 0.99607843, 0.25882353,\n",
       "        0.        , 0.        , 0.        ],\n",
       "       [0.        , 0.        , 0.        , 0.        , 0.        ,\n",
       "        0.96862745, 0.90196078, 0.98823529, 0.88627451, 0.78039216,\n",
       "        0.82745098, 0.79215686, 0.82745098, 0.83529412, 0.71372549,\n",
       "        0.83529412, 0.83137255, 0.80784314, 0.79215686, 0.85882353,\n",
       "        0.81176471, 0.96862745, 0.87058824, 0.92941176, 0.40784314,\n",
       "        0.        , 0.        , 0.        ],\n",
       "       [0.        , 0.        , 0.        , 0.        , 0.03921569,\n",
       "        0.95686275, 0.85882353, 0.98039216, 0.80392157, 0.78039216,\n",
       "        0.81960784, 0.79215686, 0.81960784, 0.82745098, 0.74117647,\n",
       "        0.83921569, 0.80784314, 0.82352941, 0.78431373, 0.83137255,\n",
       "        0.60392157, 0.94117647, 0.81568627, 0.85882353, 0.54901961,\n",
       "        0.        , 0.        , 0.        ],\n",
       "       [0.        , 0.        , 0.        , 0.        , 0.08235294,\n",
       "        1.        , 0.87058824, 0.93333333, 0.72156863, 0.82352941,\n",
       "        0.75294118, 0.80784314, 0.81960784, 0.82352941, 0.74117647,\n",
       "        0.83529412, 0.82745098, 0.81960784, 0.75294118, 0.89411765,\n",
       "        0.60784314, 0.88627451, 0.93333333, 0.94509804, 0.65098039,\n",
       "        0.        , 0.        , 0.        ],\n",
       "       [0.        , 0.        , 0.        , 0.        , 0.14509804,\n",
       "        0.96078431, 0.88627451, 0.94509804, 0.58823529, 0.77254902,\n",
       "        0.74117647, 0.8       , 0.81960784, 0.82352941, 0.71764706,\n",
       "        0.83529412, 0.83529412, 0.78823529, 0.72156863, 0.84313725,\n",
       "        0.57254902, 0.84705882, 0.9254902 , 0.88235294, 0.60392157,\n",
       "        0.        , 0.        , 0.        ],\n",
       "       [0.        , 0.        , 0.        , 0.        , 0.22745098,\n",
       "        0.9372549 , 0.89019608, 1.        , 0.61960784, 0.75686275,\n",
       "        0.76470588, 0.8       , 0.81960784, 0.83529412, 0.70588235,\n",
       "        0.81176471, 0.85098039, 0.78039216, 0.76078431, 0.82745098,\n",
       "        0.61960784, 0.85882353, 0.9254902 , 0.84705882, 0.59215686,\n",
       "        0.        , 0.        , 0.        ],\n",
       "       [0.        , 0.        , 0.        , 0.        , 0.26666667,\n",
       "        0.91372549, 0.88627451, 0.95294118, 0.54509804, 0.78431373,\n",
       "        0.75686275, 0.80392157, 0.82352941, 0.81568627, 0.70588235,\n",
       "        0.80392157, 0.83137255, 0.79607843, 0.76862745, 0.84705882,\n",
       "        0.61568627, 0.70196078, 1.        , 0.84705882, 0.60784314,\n",
       "        0.        , 0.        , 0.        ],\n",
       "       [0.        , 0.        , 0.        , 0.        , 0.31764706,\n",
       "        0.88235294, 0.87843137, 0.82745098, 0.54117647, 0.85882353,\n",
       "        0.7254902 , 0.78823529, 0.83529412, 0.81176471, 0.77254902,\n",
       "        0.88627451, 0.83137255, 0.78431373, 0.74509804, 0.84313725,\n",
       "        0.71764706, 0.35294118, 1.        , 0.82745098, 0.57647059,\n",
       "        0.        , 0.        , 0.        ],\n",
       "       [0.        , 0.        , 0.        , 0.        , 0.35686275,\n",
       "        0.82352941, 0.90196078, 0.61960784, 0.44705882, 0.80392157,\n",
       "        0.73333333, 0.81568627, 0.81960784, 0.80784314, 0.75686275,\n",
       "        0.82352941, 0.82745098, 0.8       , 0.76470588, 0.8       ,\n",
       "        0.70980392, 0.09019608, 1.        , 0.83529412, 0.61960784,\n",
       "        0.        , 0.        , 0.        ],\n",
       "       [0.        , 0.        , 0.        , 0.        , 0.34117647,\n",
       "        0.80392157, 0.90980392, 0.42745098, 0.64313725, 1.        ,\n",
       "        0.83921569, 0.87843137, 0.87058824, 0.82352941, 0.77254902,\n",
       "        0.83921569, 0.88235294, 0.87058824, 0.82745098, 0.8627451 ,\n",
       "        0.85098039, 0.        , 0.91764706, 0.84705882, 0.6627451 ,\n",
       "        0.        , 0.        , 0.        ],\n",
       "       [0.        , 0.        , 0.        , 0.        , 0.36078431,\n",
       "        0.83529412, 0.90980392, 0.57254902, 0.01960784, 0.5254902 ,\n",
       "        0.59215686, 0.63529412, 0.66666667, 0.71764706, 0.71372549,\n",
       "        0.64313725, 0.65098039, 0.69803922, 0.63529412, 0.61176471,\n",
       "        0.38431373, 0.        , 0.94117647, 0.88235294, 0.82352941,\n",
       "        0.        , 0.        , 0.        ],\n",
       "       [0.        , 0.        , 0.        , 0.        , 0.16862745,\n",
       "        0.64313725, 0.80784314, 0.55294118, 0.        , 0.        ,\n",
       "        0.        , 0.        , 0.        , 0.        , 0.        ,\n",
       "        0.        , 0.        , 0.        , 0.        , 0.        ,\n",
       "        0.        , 0.        , 0.49803922, 0.49019608, 0.29803922,\n",
       "        0.        , 0.        , 0.        ]])"
      ]
     },
     "execution_count": 10,
     "metadata": {},
     "output_type": "execute_result"
    }
   ],
   "source": [
    "X_train[0]"
   ]
  },
  {
   "cell_type": "markdown",
   "metadata": {},
   "source": [
    "Neural Network architecture with 2 hidden layers with 300 and 100 neurons respectively"
   ]
  },
  {
   "cell_type": "code",
   "execution_count": 11,
   "metadata": {},
   "outputs": [],
   "source": [
    "model=keras.models.Sequential()\n",
    "model.add(keras.layers.Flatten(input_shape=[28,28]))\n",
    "model.add(keras.layers.Dense(300, activation=\"relu\"))\n",
    "model.add(keras.layers.Dense(100, activation=\"relu\"))\n",
    "model.add(keras.layers.Dense(10, activation=\"softmax\"))"
   ]
  },
  {
   "cell_type": "code",
   "execution_count": 12,
   "metadata": {},
   "outputs": [
    {
     "name": "stdout",
     "output_type": "stream",
     "text": [
      "Model: \"sequential\"\n",
      "_________________________________________________________________\n",
      "Layer (type)                 Output Shape              Param #   \n",
      "=================================================================\n",
      "flatten (Flatten)            (None, 784)               0         \n",
      "_________________________________________________________________\n",
      "dense (Dense)                (None, 300)               235500    \n",
      "_________________________________________________________________\n",
      "dense_1 (Dense)              (None, 100)               30100     \n",
      "_________________________________________________________________\n",
      "dense_2 (Dense)              (None, 10)                1010      \n",
      "=================================================================\n",
      "Total params: 266,610\n",
      "Trainable params: 266,610\n",
      "Non-trainable params: 0\n",
      "_________________________________________________________________\n"
     ]
    }
   ],
   "source": [
    "model.summary()"
   ]
  },
  {
   "cell_type": "code",
   "execution_count": 13,
   "metadata": {},
   "outputs": [
    {
     "data": {
      "image/png": "[encoded data removed]",
      "text/plain": [
       "<IPython.core.display.Image object>"
      ]
     },
     "execution_count": 13,
     "metadata": {},
     "output_type": "execute_result"
    }
   ],
   "source": [
    "import pydot\n",
    "keras.utils.plot_model(model)"
   ]
  },
  {
   "cell_type": "markdown",
   "metadata": {},
   "source": [
    "Define a checkpoint where best parameters from epoch gets saved, to avoid overfitting due to multiple Epochs. \n",
    "\n",
    "By using early stopping, we can stop our model from training if Validation error stops decreasing for 10 consecutive epochs.\n",
    "\n",
    "Used Sparse Categorical Cross Entropy as it is a multi class classification"
   ]
  },
  {
   "cell_type": "code",
   "execution_count": 14,
   "metadata": {},
   "outputs": [],
   "source": [
    "model.compile(loss=\"sparse_categorical_crossentropy\",\n",
    "             optimizer=\"sgd\",\n",
    "             metrics=[\"accuracy\"])\n",
    "checkpoint_cb=keras.callbacks.ModelCheckpoint(\"Best_Fashion_MNIST.h5\", save_best_only=True)\n",
    "early_stopping_cb=keras.callbacks.EarlyStopping(patience=10, restore_best_weights=True)"
   ]
  },
  {
   "cell_type": "code",
   "execution_count": 15,
   "metadata": {},
   "outputs": [
    {
     "name": "stdout",
     "output_type": "stream",
     "text": [
      "Train on 55000 samples, validate on 5000 samples\n",
      "Epoch 1/300\n",
      "55000/55000 [==============================] - 7s 128us/sample - loss: 0.7194 - accuracy: 0.7651 - val_loss: 0.5038 - val_accuracy: 0.8290\n",
      "Epoch 2/300\n",
      "55000/55000 [==============================] - 7s 123us/sample - loss: 0.4886 - accuracy: 0.8302 - val_loss: 0.4482 - val_accuracy: 0.8422\n",
      "Epoch 3/300\n",
      "55000/55000 [==============================] - 7s 120us/sample - loss: 0.4441 - accuracy: 0.8427 - val_loss: 0.4191 - val_accuracy: 0.8562\n",
      "Epoch 4/300\n",
      "55000/55000 [==============================] - 7s 121us/sample - loss: 0.4169 - accuracy: 0.8540 - val_loss: 0.3933 - val_accuracy: 0.8652\n",
      "Epoch 5/300\n",
      "55000/55000 [==============================] - 7s 121us/sample - loss: 0.3966 - accuracy: 0.8599 - val_loss: 0.4376 - val_accuracy: 0.8378\n",
      "Epoch 6/300\n",
      "55000/55000 [==============================] - 7s 124us/sample - loss: 0.3802 - accuracy: 0.8661 - val_loss: 0.3854 - val_accuracy: 0.8686\n",
      "Epoch 7/300\n",
      "55000/55000 [==============================] - 7s 123us/sample - loss: 0.3670 - accuracy: 0.8706 - val_loss: 0.3584 - val_accuracy: 0.8744\n",
      "Epoch 8/300\n",
      "55000/55000 [==============================] - 7s 121us/sample - loss: 0.3544 - accuracy: 0.8743 - val_loss: 0.3545 - val_accuracy: 0.8746\n",
      "Epoch 9/300\n",
      "55000/55000 [==============================] - 7s 120us/sample - loss: 0.3435 - accuracy: 0.8775 - val_loss: 0.3521 - val_accuracy: 0.8740\n",
      "Epoch 10/300\n",
      "55000/55000 [==============================] - 7s 121us/sample - loss: 0.3348 - accuracy: 0.8807 - val_loss: 0.3416 - val_accuracy: 0.8784\n",
      "Epoch 11/300\n",
      "55000/55000 [==============================] - 7s 126us/sample - loss: 0.3254 - accuracy: 0.8838 - val_loss: 0.3389 - val_accuracy: 0.8780\n",
      "Epoch 12/300\n",
      "55000/55000 [==============================] - 7s 124us/sample - loss: 0.3171 - accuracy: 0.8858 - val_loss: 0.3512 - val_accuracy: 0.8696\n",
      "Epoch 13/300\n",
      "55000/55000 [==============================] - 7s 123us/sample - loss: 0.3099 - accuracy: 0.8892 - val_loss: 0.3402 - val_accuracy: 0.8790\n",
      "Epoch 14/300\n",
      "55000/55000 [==============================] - 7s 125us/sample - loss: 0.3032 - accuracy: 0.8911 - val_loss: 0.3378 - val_accuracy: 0.8806\n",
      "Epoch 15/300\n",
      "55000/55000 [==============================] - 7s 129us/sample - loss: 0.2963 - accuracy: 0.8936 - val_loss: 0.3373 - val_accuracy: 0.8766\n",
      "Epoch 16/300\n",
      "55000/55000 [==============================] - 7s 126us/sample - loss: 0.2900 - accuracy: 0.8956 - val_loss: 0.3238 - val_accuracy: 0.8802\n",
      "Epoch 17/300\n",
      "55000/55000 [==============================] - 7s 126us/sample - loss: 0.2841 - accuracy: 0.8977 - val_loss: 0.3327 - val_accuracy: 0.8806\n",
      "Epoch 18/300\n",
      "55000/55000 [==============================] - 7s 125us/sample - loss: 0.2800 - accuracy: 0.8985 - val_loss: 0.3243 - val_accuracy: 0.8862\n",
      "Epoch 19/300\n",
      "55000/55000 [==============================] - 7s 127us/sample - loss: 0.2749 - accuracy: 0.9006 - val_loss: 0.3239 - val_accuracy: 0.8808\n",
      "Epoch 20/300\n",
      "55000/55000 [==============================] - 7s 125us/sample - loss: 0.2696 - accuracy: 0.9024 - val_loss: 0.3116 - val_accuracy: 0.8868\n",
      "Epoch 21/300\n",
      "55000/55000 [==============================] - 7s 126us/sample - loss: 0.2634 - accuracy: 0.9053 - val_loss: 0.3153 - val_accuracy: 0.8862\n",
      "Epoch 22/300\n",
      "55000/55000 [==============================] - 7s 121us/sample - loss: 0.2596 - accuracy: 0.9061 - val_loss: 0.3059 - val_accuracy: 0.8866\n",
      "Epoch 23/300\n",
      "55000/55000 [==============================] - 7s 123us/sample - loss: 0.2546 - accuracy: 0.9091 - val_loss: 0.3023 - val_accuracy: 0.8864\n",
      "Epoch 24/300\n",
      "55000/55000 [==============================] - 7s 123us/sample - loss: 0.2503 - accuracy: 0.9093 - val_loss: 0.3032 - val_accuracy: 0.8892\n",
      "Epoch 25/300\n",
      "55000/55000 [==============================] - 7s 123us/sample - loss: 0.2464 - accuracy: 0.9121 - val_loss: 0.3402 - val_accuracy: 0.8748\n",
      "Epoch 26/300\n",
      "55000/55000 [==============================] - 8s 145us/sample - loss: 0.2428 - accuracy: 0.9117 - val_loss: 0.2961 - val_accuracy: 0.8902\n",
      "Epoch 27/300\n",
      "55000/55000 [==============================] - 7s 130us/sample - loss: 0.2375 - accuracy: 0.9150 - val_loss: 0.2994 - val_accuracy: 0.8880\n",
      "Epoch 28/300\n",
      "55000/55000 [==============================] - 7s 129us/sample - loss: 0.2343 - accuracy: 0.9149 - val_loss: 0.2918 - val_accuracy: 0.8908\n",
      "Epoch 29/300\n",
      "55000/55000 [==============================] - 7s 126us/sample - loss: 0.2307 - accuracy: 0.9166 - val_loss: 0.3205 - val_accuracy: 0.8802\n",
      "Epoch 30/300\n",
      "55000/55000 [==============================] - 7s 124us/sample - loss: 0.2270 - accuracy: 0.9186 - val_loss: 0.3121 - val_accuracy: 0.8860\n",
      "Epoch 31/300\n",
      "55000/55000 [==============================] - 7s 129us/sample - loss: 0.2226 - accuracy: 0.9193 - val_loss: 0.3036 - val_accuracy: 0.8884\n",
      "Epoch 32/300\n",
      "55000/55000 [==============================] - 7s 124us/sample - loss: 0.2198 - accuracy: 0.9202 - val_loss: 0.2914 - val_accuracy: 0.8880\n",
      "Epoch 33/300\n",
      "55000/55000 [==============================] - 7s 125us/sample - loss: 0.2157 - accuracy: 0.9225 - val_loss: 0.3158 - val_accuracy: 0.8802\n",
      "Epoch 34/300\n",
      "55000/55000 [==============================] - 7s 125us/sample - loss: 0.2125 - accuracy: 0.9230 - val_loss: 0.2833 - val_accuracy: 0.8936\n",
      "Epoch 35/300\n",
      "55000/55000 [==============================] - 7s 125us/sample - loss: 0.2095 - accuracy: 0.9249 - val_loss: 0.3121 - val_accuracy: 0.8814\n",
      "Epoch 36/300\n",
      "55000/55000 [==============================] - 7s 126us/sample - loss: 0.2066 - accuracy: 0.9258 - val_loss: 0.2848 - val_accuracy: 0.8934\n",
      "Epoch 37/300\n",
      "55000/55000 [==============================] - 7s 129us/sample - loss: 0.2018 - accuracy: 0.9286 - val_loss: 0.3218 - val_accuracy: 0.8866\n",
      "Epoch 38/300\n",
      "55000/55000 [==============================] - 7s 128us/sample - loss: 0.1998 - accuracy: 0.9284 - val_loss: 0.2961 - val_accuracy: 0.8910\n",
      "Epoch 39/300\n",
      "55000/55000 [==============================] - 7s 130us/sample - loss: 0.1966 - accuracy: 0.9303 - val_loss: 0.2835 - val_accuracy: 0.8934\n",
      "Epoch 40/300\n",
      "55000/55000 [==============================] - 7s 132us/sample - loss: 0.1929 - accuracy: 0.9311 - val_loss: 0.2965 - val_accuracy: 0.8948\n",
      "Epoch 41/300\n",
      "55000/55000 [==============================] - 7s 128us/sample - loss: 0.1897 - accuracy: 0.9325 - val_loss: 0.3075 - val_accuracy: 0.8870\n",
      "Epoch 42/300\n",
      "55000/55000 [==============================] - 7s 136us/sample - loss: 0.1871 - accuracy: 0.9328 - val_loss: 0.2915 - val_accuracy: 0.8898\n",
      "Epoch 43/300\n",
      "55000/55000 [==============================] - 7s 134us/sample - loss: 0.1835 - accuracy: 0.9341 - val_loss: 0.2947 - val_accuracy: 0.8926\n",
      "Epoch 44/300\n",
      "55000/55000 [==============================] - 7s 128us/sample - loss: 0.1820 - accuracy: 0.9339 - val_loss: 0.2883 - val_accuracy: 0.8986\n"
     ]
    }
   ],
   "source": [
    "model_history=model.fit(X_train, Y_train, epochs=300, validation_data=(X_valid, Y_valid), \n",
    "                        callbacks=[checkpoint_cb, early_stopping_cb])"
   ]
  },
  {
   "cell_type": "markdown",
   "metadata": {},
   "source": [
    "Use the best model from training set, and plot graph to see how loss has been constantly reducing"
   ]
  },
  {
   "cell_type": "code",
   "execution_count": 16,
   "metadata": {},
   "outputs": [
    {
     "data": {
      "image/png": "[encoded data removed]",
      "text/plain": [
       "<Figure size 576x432 with 1 Axes>"
      ]
     },
     "metadata": {
      "needs_background": "light"
     },
     "output_type": "display_data"
    }
   ],
   "source": [
    "model=keras.models.load_model(\"Best_Fashion_MNIST.h5\")\n",
    "pd.DataFrame(model_history.history).plot(figsize=(8,6))\n",
    "plt.grid(True)\n",
    "plt.gca().set_ylim(0,1)\n",
    "plt.show()"
   ]
  },
  {
   "cell_type": "code",
   "execution_count": 17,
   "metadata": {},
   "outputs": [
    {
     "name": "stdout",
     "output_type": "stream",
     "text": [
      "10000/10000 [==============================] - 1s 102us/sample - loss: 0.3222 - accuracy: 0.8850\n"
     ]
    },
    {
     "data": {
      "text/plain": [
       "[0.3222223682999611, 0.885]"
      ]
     },
     "execution_count": 17,
     "metadata": {},
     "output_type": "execute_result"
    }
   ],
   "source": [
    "model.evaluate(X_test, Y_test)"
   ]
  },
  {
   "cell_type": "code",
   "execution_count": 18,
   "metadata": {},
   "outputs": [],
   "source": [
    "model.save(\"FashionMNIST.h5\")"
   ]
  },
  {
   "cell_type": "code",
   "execution_count": null,
   "metadata": {},
   "outputs": [],
   "source": []
  }
 ],
 "metadata": {
  "kernelspec": {
   "display_name": "Python 3",
   "language": "python",
   "name": "python3"
  },
  "language_info": {
   "codemirror_mode": {
    "name": "ipython",
    "version": 3
   },
   "file_extension": ".py",
   "mimetype": "text/x-python",
   "name": "python",
   "nbconvert_exporter": "python",
   "pygments_lexer": "ipython3",
   "version": "3.7.4"
  }
 },
 "nbformat": 4,
 "nbformat_minor": 2
}
